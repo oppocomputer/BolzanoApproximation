{
 "cells": [
  {
   "cell_type": "code",
   "execution_count": 12,
   "metadata": {},
   "outputs": [],
   "source": [
    "import ast\n",
    "from math import sin,copysign"
   ]
  },
  {
   "cell_type": "code",
   "execution_count": 17,
   "metadata": {},
   "outputs": [],
   "source": [
    "formula = \"2*sin(x)+x-3\"\n",
    "\n",
    "a = 1\n",
    "b = 5\n",
    "\n",
    "tolerance = 0.0000000000001\n",
    "\n",
    "\n",
    "def evaluate(func,a):\n",
    "    x = a #Vul de waarde a in in de formule\n",
    "    code = ast.parse(formula, mode='eval') #Compileer de functie zodat het te runnen valt door python   \n",
    "    return eval(compile(code, '', mode='eval')) #Return de uitkomst van deze coordinaat"
   ]
  },
  {
   "cell_type": "code",
   "execution_count": 20,
   "metadata": {},
   "outputs": [
    {
     "name": "stdout",
     "output_type": "stream",
     "text": [
      "A(1, -0.317058)  B(5, 0.082151)\n",
      "A(1, -0.317058)  B(3.0, 0.28224)\n",
      "A(1, -0.317058)  B(2.0, 0.818595)\n",
      "A(1, -0.317058)  B(1.5, 0.49499)\n",
      "A(1, -0.317058)  B(1.25, 0.147969)\n",
      "A(1.125, -0.070465)  B(1.25, 0.147969)\n",
      "A(1.125, -0.070465)  B(1.1875, 0.042374)\n",
      "A(1.15625, -0.013152)  B(1.1875, 0.042374)\n",
      "A(1.15625, -0.013152)  B(1.171875, 0.014836)\n",
      "A(1.15625, -0.013152)  B(1.1640625, 0.000898)\n",
      "A(1.16015625, -0.006113)  B(1.1640625, 0.000898)\n",
      "A(1.162109375, -0.002604)  B(1.1640625, 0.000898)\n",
      "A(1.1630859375, -0.000852)  B(1.1640625, 0.000898)\n",
      "A(1.1630859375, -0.000852)  B(1.16357421875, 2.3e-05)\n",
      "A(1.163330078125, -0.000414)  B(1.16357421875, 2.3e-05)\n",
      "A(1.1634521484375, -0.000195)  B(1.16357421875, 2.3e-05)\n",
      "A(1.16351318359375, -8.6e-05)  B(1.16357421875, 2.3e-05)\n",
      "A(1.163543701171875, -3.1e-05)  B(1.16357421875, 2.3e-05)\n",
      "A(1.1635589599609375, -4e-06)  B(1.16357421875, 2.3e-05)\n",
      "A(1.1635589599609375, -4e-06)  B(1.1635665893554688, 1e-05)\n",
      "A(1.1635589599609375, -4e-06)  B(1.1635627746582031, 3e-06)\n",
      "A(1.1635608673095703, -1e-06)  B(1.1635627746582031, 3e-06)\n",
      "A(1.1635608673095703, -1e-06)  B(1.1635618209838867, 1e-06)\n",
      "A(1.1635608673095703, -1e-06)  B(1.1635613441467285, 0.0)\n",
      "A(1.1635611057281494, -0.0)  B(1.1635613441467285, 0.0)\n",
      "A(1.1635611057281494, -0.0)  B(1.163561224937439, 0.0)\n",
      "A(1.1635611653327942, -0.0)  B(1.163561224937439, 0.0)\n",
      "A(1.1635611653327942, -0.0)  B(1.1635611951351166, 0.0)\n",
      "A(1.1635611653327942, -0.0)  B(1.1635611802339554, 0.0)\n",
      "A(1.1635611727833748, -0.0)  B(1.1635611802339554, 0.0)\n",
      "A(1.163561176508665, -0.0)  B(1.1635611802339554, 0.0)\n",
      "A(1.163561176508665, -0.0)  B(1.1635611783713102, 0.0)\n",
      "A(1.1635611774399877, -0.0)  B(1.1635611783713102, 0.0)\n",
      "A(1.1635611774399877, -0.0)  B(1.163561177905649, 0.0)\n",
      "A(1.1635611774399877, -0.0)  B(1.1635611776728183, 0.0)\n",
      "A(1.1635611774399877, -0.0)  B(1.163561177556403, 0.0)\n",
      "A(1.1635611774399877, -0.0)  B(1.1635611774981953, 0.0)\n",
      "A(1.1635611774690915, -0.0)  B(1.1635611774981953, 0.0)\n",
      "A(1.1635611774690915, -0.0)  B(1.1635611774836434, 0.0)\n",
      "A(1.1635611774690915, -0.0)  B(1.1635611774763674, 0.0)\n",
      "A(1.1635611774690915, -0.0)  B(1.1635611774727295, 0.0)\n",
      "A(1.1635611774690915, -0.0)  B(1.1635611774709105, 0.0)\n",
      "A(1.1635611774690915, -0.0)  B(1.163561177470001, 0.0)\n",
      "A(1.1635611774690915, -0.0)  B(1.1635611774695462, 0.0)\n",
      "A(1.1635611774693189, -0.0)  B(1.1635611774695462, 0.0)\n",
      "A(1.1635611774694326, -0.0)  B(1.1635611774695462, 0.0)\n",
      "A(1.1635611774694894, -0.0)  B(1.1635611774695462, 0.0)\n",
      "A(1.1635611774695178, -0.0)  B(1.1635611774695462, 0.0)\n",
      "Result found: 1.1635611774695391! Used 48 iterations.\n"
     ]
    }
   ],
   "source": [
    "x1, x2, mid = evaluate(formula,a), evaluate(formula,b), 0 #Getallen zodat de while loop meteen start\n",
    "test_a, test_b, test_mid = a, b, 0\n",
    "counter = 0\n",
    "\n",
    "while(abs(x2-x1) > tolerance):\n",
    "    counter += 1\n",
    "    x1, x2 = evaluate(formula, test_a), evaluate(formula, test_b) \n",
    "    \n",
    "    status = \"A(\" + str(test_a) + \", \" + str(round(x1,6)) + \")  \" \"B(\" + str(test_b) + \", \" + str(round(x2,6)) + \")\"\n",
    "    print(status)\n",
    "\n",
    "    test_mid = (test_a + test_b)/2 #Bereken de waarde van het getal in het midden van de interval ([1,5] => 3)   \n",
    "    mid = evaluate(formula,test_mid)  # (\"2*sin(x)+x-3\" waarbij x wordt vervangen door het getal hierboven  ^) \n",
    "\n",
    "    if (copysign(1, mid) == copysign(1, x2)): #Check om te zien welk eindpunt vervangen moet worden door de nieuwe waarde (copysign = sign functie)\n",
    "        test_b = test_mid\n",
    "    elif (copysign(1, mid) == copysign(1, x1)): #Else zou ook werken, maar minder overzichtelijk\n",
    "        test_a = test_mid\n",
    "\n",
    "\n",
    "\n",
    "#Ik neem hier het gemiddelde van de twee waarden maar de eindpunten zouden de zelfde orde grootte moeten geven (in dit geval 10^15 https://www.wolframalpha.com/input/?i=2*sin%281.1635611774695391%29%2B1.1635611774695391-3)\n",
    "result = \"Result found: \" + str((test_b + test_a)/2) + \"! Used \" + str(counter) + \" iterations.\"\n",
    "print(result)\n",
    "\n"
   ]
  },
  {
   "cell_type": "code",
   "execution_count": null,
   "metadata": {},
   "outputs": [],
   "source": []
  }
 ],
 "metadata": {
  "interpreter": {
   "hash": "b3ba2566441a7c06988d0923437866b63cedc61552a5af99d1f4fb67d367b25f"
  },
  "kernelspec": {
   "display_name": "Python 3.9.7 64-bit ('base': conda)",
   "language": "python",
   "name": "python3"
  },
  "language_info": {
   "codemirror_mode": {
    "name": "ipython",
    "version": 3
   },
   "file_extension": ".py",
   "mimetype": "text/x-python",
   "name": "python",
   "nbconvert_exporter": "python",
   "pygments_lexer": "ipython3",
   "version": "3.9.7"
  },
  "orig_nbformat": 4
 },
 "nbformat": 4,
 "nbformat_minor": 2
}
